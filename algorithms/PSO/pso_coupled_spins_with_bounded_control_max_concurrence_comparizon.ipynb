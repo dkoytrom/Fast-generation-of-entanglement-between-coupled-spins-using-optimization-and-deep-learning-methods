{
 "cells": [
  {
   "cell_type": "code",
   "execution_count": null,
   "metadata": {},
   "outputs": [],
   "source": [
    "import numpy as np\n",
    "from pso_algorithm import PSO\n",
    "import matplotlib.pyplot as plt\n",
    "import qutip\n",
    "from qutip import expect, fidelity, qutrit_basis, qutrit_ops\n",
    "\n",
    "import sys\n",
    "sys.path.append('../')\n",
    "from common.common import tsoa_coupled_spins_quantum_simulation\n",
    "import threading"
   ]
  },
  {
   "cell_type": "markdown",
   "metadata": {},
   "source": [
    "* Define the control process as an objective function which should be minimized\n",
    "* Input params will be the params of the trigonometric series\n",
    "* we will use 3 harmonics, so we need 2*3 + 2 = 8 params"
   ]
  },
  {
   "cell_type": "code",
   "execution_count": 3,
   "metadata": {},
   "outputs": [],
   "source": [
    "nb_harmonics = 5\n",
    "nb_params = 2 * (2 * nb_harmonics + 1)\n",
    "T = 2.2\n",
    "max_steps = 200\n",
    "ξ = 1"
   ]
  },
  {
   "cell_type": "code",
   "execution_count": 4,
   "metadata": {},
   "outputs": [],
   "source": [
    "def get_concurrence(state):\n",
    "    c1 = state[0][0]\n",
    "    c2 = state[1][0]\n",
    "    c3 = state[2][0]\n",
    "\n",
    "    return abs(2* c1 * c3 - c2**2)"
   ]
  },
  {
   "cell_type": "markdown",
   "metadata": {},
   "source": [
    "* Parameters of the system"
   ]
  },
  {
   "cell_type": "code",
   "execution_count": 5,
   "metadata": {},
   "outputs": [],
   "source": [
    "upper_bound = 1 * np.ones(nb_params)\n",
    "lower_bound = -1 * np.ones(nb_params)"
   ]
  },
  {
   "cell_type": "markdown",
   "metadata": {},
   "source": [
    "* PSO algorithm parameters"
   ]
  },
  {
   "cell_type": "code",
   "execution_count": 6,
   "metadata": {},
   "outputs": [],
   "source": [
    "nb_particles = 300\n",
    "max_iter = 1000\n",
    "w_max = 0.9 # inertia weight max\n",
    "w_min = 0.2 # inertia weight min\n",
    "c1 = 1\n",
    "c2 = 3\n",
    "max_velocity = (upper_bound - lower_bound) * 0.2\n",
    "min_velocity = -max_velocity"
   ]
  },
  {
   "cell_type": "code",
   "execution_count": 7,
   "metadata": {},
   "outputs": [],
   "source": [
    "def training(T, max_control):\n",
    "    def tsoa_objective_function(input_params):\n",
    "      penalty = 2000\n",
    "\n",
    "      basis3lvl = qutrit_basis()\n",
    "      initial_quantum_state = basis3lvl[0]\n",
    "\n",
    "      states, omegas, detunings = tsoa_coupled_spins_quantum_simulation(input_params=input_params, \n",
    "                                    initial_quantum_state=initial_quantum_state,\n",
    "                                    final_time=T, nb_harmonics=nb_harmonics, max_steps=max_steps, ξ=ξ)\n",
    "\n",
    "      created_quantum_state = states[-1]\n",
    "\n",
    "      # add constraints\n",
    "      # bound omega and detuning\n",
    "      max_omega = max(omegas)\n",
    "      min_omega = min(omegas)\n",
    "      max_detuning = max(detunings)\n",
    "      min_detuning = min(detunings)\n",
    "\n",
    "      # define constraints for the values of the controls\n",
    "      constr1 = max_omega <= max_control and min_omega >= -max_control\n",
    "      constr2 = max_detuning <= max_control and min_detuning >= -max_control\n",
    "      \n",
    "      inconcurrence = 1 - get_concurrence(created_quantum_state)\n",
    "\n",
    "      if constr1 and constr2 and inconcurrence > 0:\n",
    "            return inconcurrence\n",
    "      else: \n",
    "            return inconcurrence + penalty\n",
    "\n",
    "    pso = PSO(nb_particles=nb_particles, nb_params=nb_params, \n",
    "          lower_bound=lower_bound, upper_bound=upper_bound,\n",
    "          objective_fn=tsoa_objective_function, w_max=w_max, w_min=w_min, \n",
    "          c1=c1, c2=c2, max_velocity=max_velocity, min_velocity=min_velocity)\n",
    "\n",
    "    pso.optimize(max_iter=max_iter)\n",
    "\n",
    "    return pso"
   ]
  },
  {
   "cell_type": "markdown",
   "metadata": {},
   "source": [
    "* PSO algorithm execution"
   ]
  },
  {
   "cell_type": "code",
   "execution_count": 8,
   "metadata": {},
   "outputs": [],
   "source": [
    "concurrences_array = []\n",
    "states_arrray = []\n",
    "controls_array = []\n",
    "global_objectives_array = []\n",
    "optimal_params_array = []"
   ]
  },
  {
   "cell_type": "code",
   "execution_count": null,
   "metadata": {},
   "outputs": [],
   "source": [
    "timings = [(2.35, 1.), (1.3, 2.), (1.2, 3.), (1.0, 4.)]\n",
    "threads = []\n",
    "\n",
    "for (T, max_control) in timings:\n",
    "    pso = training(T, max_control)\n",
    "\n",
    "    optimal_params = pso.global_best.position\n",
    "    optimal_params_array.append(optimal_params)\n",
    "    omega_params = optimal_params[0:2 * nb_harmonics + 1]\n",
    "    detuning_params = optimal_params[2 * nb_harmonics + 1: len(optimal_params)]\n",
    "\n",
    "    initial_quantum_state = qutrit_basis()[0]\n",
    "    target_quantum_state = qutrit_basis()[1]\n",
    "\n",
    "    states, omegas, detunings = tsoa_coupled_spins_quantum_simulation(input_params=optimal_params, initial_quantum_state=initial_quantum_state,\n",
    "                                                final_time=T, nb_harmonics=nb_harmonics,max_steps=max_steps, ξ=ξ)\n",
    "\n",
    "    concurrences = [get_concurrence(state) for state in states]\n",
    "    concurrences_array.append(concurrences)\n",
    "    \n",
    "    states_arrray.append(states)\n",
    "    controls_array.append((omegas, detunings))\n",
    "    global_objectives_array.append(pso.get_global_objectives())"
   ]
  },
  {
   "cell_type": "markdown",
   "metadata": {},
   "source": [
    "* Plot global best solution evolution"
   ]
  },
  {
   "cell_type": "code",
   "execution_count": null,
   "metadata": {},
   "outputs": [],
   "source": [
    "fig = plt.figure()\n",
    "gs = fig.add_gridspec(2, 2)\n",
    "ax1 = fig.add_subplot(gs[0, 0])\n",
    "ax2 = fig.add_subplot(gs[0, 1])\n",
    "ax3 = fig.add_subplot(gs[1, 0])\n",
    "ax4 = fig.add_subplot(gs[1, 1])\n",
    "fig.set_figheight(8)\n",
    "fig.set_figwidth(12)\n",
    "\n",
    "axes = [ax1, ax2, ax3, ax4]\n",
    "subplot_params = [(.35, .56, .1, .1), (.60, .65, .1, .1), (.20, .25, .1, .1), (.60, .15, .1, .1)]\n",
    "titles = ['a', 'b', 'c', 'd']\n",
    "\n",
    "for i, ax in enumerate(axes):\n",
    "    omegas, detunings = controls_array[i]\n",
    "    T, max_control = timings[i]\n",
    "    time = np.linspace(start = 0, stop = T, num = max_steps)\n",
    "    \n",
    "    ax.plot(time, omegas, label = 'Ω')\n",
    "    ax.plot(time, detunings, label = 'Δ')\n",
    "    ax.set_ylabel(r\"Ω,Δ ($\\xi$)\", rotation = 90)\n",
    "    ax.set_xlabel(r\"t ($\\xi^{-1}$)\")\n",
    "    ax.set_ylim((-(max_control + 0.1), (max_control + 0.1)))\n",
    "    ax.set_title('(' + titles[i] + ')', loc = \"right\", fontsize = 10)\n",
    "    ax.legend()\n",
    "\n",
    "    l, b, h, w = subplot_params[i]\n",
    "    concurrences = concurrences_array[i]\n",
    "    ax5 = fig.add_axes([l, b, w, h])\n",
    "    ax5.plot(time, concurrences)\n",
    "    ax5.set_ylabel(\"Concurrence\", rotation = 90)"
   ]
  },
  {
   "cell_type": "code",
   "execution_count": null,
   "metadata": {},
   "outputs": [],
   "source": [
    "concurrences = concurrences_array[0]\n",
    "states = states_arrray[0]\n",
    "omegas, detunings = controls_array[0]\n",
    "global_objectives = global_objectives_array[0]\n",
    "\n",
    "[proj1, proj2, proj3, trans12, trans23, _] = qutrit_ops()\n",
    "T, max_control = timings[0]\n",
    "time_span = np.linspace(start = 0, stop = T, num = max_steps)\n",
    "\n",
    "population1 = expect(proj1.dag() * proj1, states)\n",
    "population2 = expect(proj2.dag() * proj2, states)\n",
    "population3 = expect(proj3.dag() * proj3, states)\n",
    "\n",
    "max_concurrence = round(np.max(concurrences), 4)\n",
    "\n",
    "fig, ((ax1, ax2), (ax4, ax3)) = plt.subplots(2, 2)\n",
    "\n",
    "fig.set_figheight(8)\n",
    "fig.set_figwidth(12)\n",
    "# fig.suptitle(f\"Trigonometric Series - {nb_harmonics} harmonics - Concurrence {max_concurrence}\")\n",
    "\n",
    "ax1.plot(time_span, omegas, label = 'Ω')\n",
    "ax1.plot(time_span, detunings, label = 'Δ')\n",
    "ax1.set_ylabel(r\"Ω,Δ ($\\xi$)\", rotation = 90)\n",
    "ax1.set_xlabel(r\"t ($\\xi^{-1}$)\")\n",
    "ax1.set_ylim((-1.1, 1.1))\n",
    "ax1.legend()\n",
    "\n",
    "ax2.plot(time_span, concurrences)\n",
    "ax2.axhline(y = 0.9999, color = 'r', linestyle = '--', label = '0.9999')\n",
    "ax2.set_ylabel(\"Concurrence\", rotation = 90, fontsize = 12)\n",
    "ax2.set_xlabel(r\"t ($\\xi^{-1}$)\")\n",
    "ax2.legend(loc = 'lower right')\n",
    "\n",
    "ax4.plot(time_span, population1, label = r\"$P_1$\")\n",
    "ax4.plot(time_span, population2, label = r\"$P_2$\")\n",
    "ax4.plot(time_span, population3, label = r\"$P_3$\")\n",
    "ax4.set_ylabel(\"Populations\", rotation = 90, fontsize = 12)\n",
    "ax4.set_xlabel(r\"t ($\\xi^{-1}$)\")\n",
    "ax4.legend()\n",
    "\n",
    "ax3.plot(range(len(global_objectives)), global_objectives, label = \"Objective\")\n",
    "ax3.set_ylabel(\"Objective\")\n",
    "ax3.set_xlabel(\"iteration\")\n",
    "ax3.set_yscale(\"log\")\n",
    "ax3.legend()"
   ]
  },
  {
   "cell_type": "code",
   "execution_count": null,
   "metadata": {},
   "outputs": [],
   "source": [
    "np.round([(states_arrray[i][-1].full()[0], states_arrray[i][-1].full()[1] / np.sqrt(2), states_arrray[i][-1].full()[1] / np.sqrt(2), states_arrray[i][-1].full()[2]) for i in range(4)], 4)"
   ]
  },
  {
   "cell_type": "code",
   "execution_count": null,
   "metadata": {},
   "outputs": [],
   "source": [
    "np.round(np.abs([(states_arrray[i][-1].full()[0], states_arrray[i][-1].full()[1] / np.sqrt(2), states_arrray[i][-1].full()[1] / np.sqrt(2), states_arrray[i][-1].full()[2]) for i in range(4)])**2, 4)"
   ]
  },
  {
   "cell_type": "code",
   "execution_count": null,
   "metadata": {},
   "outputs": [],
   "source": [
    "optimal_params_array[0]"
   ]
  },
  {
   "cell_type": "code",
   "execution_count": null,
   "metadata": {},
   "outputs": [],
   "source": [
    "concurrences"
   ]
  }
 ],
 "metadata": {
  "kernelspec": {
   "display_name": "pso_venv",
   "language": "python",
   "name": "python3"
  },
  "language_info": {
   "codemirror_mode": {
    "name": "ipython",
    "version": 3
   },
   "file_extension": ".py",
   "mimetype": "text/x-python",
   "name": "python",
   "nbconvert_exporter": "python",
   "pygments_lexer": "ipython3",
   "version": "3.12.5"
  }
 },
 "nbformat": 4,
 "nbformat_minor": 2
}
